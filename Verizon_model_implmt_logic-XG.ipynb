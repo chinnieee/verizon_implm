{
 "cells": [
  {
   "cell_type": "markdown",
   "metadata": {},
   "source": [
    "Importing all Required libraries"
   ]
  },
  {
   "cell_type": "markdown",
   "metadata": {},
   "source": [
    "Setting the path for reading the Train set"
   ]
  },
  {
   "cell_type": "code",
   "execution_count": 1,
   "metadata": {},
   "outputs": [],
   "source": [
    "import pandas as pd\n",
    "import numpy as np\n",
    "import matplotlib.pyplot as plt\n",
    "import seaborn as sns\n",
    "import os\n",
    "import datetime as dt\n",
    "%matplotlib inline"
   ]
  },
  {
   "cell_type": "code",
   "execution_count": 2,
   "metadata": {},
   "outputs": [],
   "source": [
    "os.getcwd()\n",
    "os.chdir('C:\\\\Users\\madhu\\Verizon\\FullDataSet')"
   ]
  },
  {
   "cell_type": "markdown",
   "metadata": {},
   "source": [
    "Reading the Train datset and displaying first 5 obs"
   ]
  },
  {
   "cell_type": "code",
   "execution_count": 19,
   "metadata": {},
   "outputs": [
    {
     "data": {
      "text/html": [
       "<div>\n",
       "<style scoped>\n",
       "    .dataframe tbody tr th:only-of-type {\n",
       "        vertical-align: middle;\n",
       "    }\n",
       "\n",
       "    .dataframe tbody tr th {\n",
       "        vertical-align: top;\n",
       "    }\n",
       "\n",
       "    .dataframe thead th {\n",
       "        text-align: right;\n",
       "    }\n",
       "</style>\n",
       "<table border=\"1\" class=\"dataframe\">\n",
       "  <thead>\n",
       "    <tr style=\"text-align: right;\">\n",
       "      <th></th>\n",
       "      <th>id</th>\n",
       "      <th>ad</th>\n",
       "      <th>link</th>\n",
       "      <th>timestamp</th>\n",
       "      <th>checkout</th>\n",
       "      <th>order_placed</th>\n",
       "      <th>grp</th>\n",
       "      <th>funnel_level</th>\n",
       "    </tr>\n",
       "  </thead>\n",
       "  <tbody>\n",
       "    <tr>\n",
       "      <th>0</th>\n",
       "      <td>session446676598812</td>\n",
       "      <td>ad412316860435</td>\n",
       "      <td>link1288490188810</td>\n",
       "      <td>2018-04-30T14:39:22.000-04:00</td>\n",
       "      <td>1</td>\n",
       "      <td>1</td>\n",
       "      <td>grp936302870529</td>\n",
       "      <td>lower</td>\n",
       "    </tr>\n",
       "    <tr>\n",
       "      <th>1</th>\n",
       "      <td>session60129542152</td>\n",
       "      <td>ad584115552306</td>\n",
       "      <td>link1288490188810</td>\n",
       "      <td>2018-04-30T08:39:23.000-04:00</td>\n",
       "      <td>1</td>\n",
       "      <td>1</td>\n",
       "      <td>grp936302870529</td>\n",
       "      <td>lower</td>\n",
       "    </tr>\n",
       "    <tr>\n",
       "      <th>2</th>\n",
       "      <td>session1511828488251</td>\n",
       "      <td>ad1056561954841</td>\n",
       "      <td>link1288490188810</td>\n",
       "      <td>2018-04-30T17:24:01.000-04:00</td>\n",
       "      <td>1</td>\n",
       "      <td>1</td>\n",
       "      <td>grp936302870529</td>\n",
       "      <td>lower</td>\n",
       "    </tr>\n",
       "    <tr>\n",
       "      <th>3</th>\n",
       "      <td>session1142461300754</td>\n",
       "      <td>ad1666447310876</td>\n",
       "      <td>link1288490188810</td>\n",
       "      <td>2018-04-30T10:42:57.000-04:00</td>\n",
       "      <td>1</td>\n",
       "      <td>1</td>\n",
       "      <td>grp936302870529</td>\n",
       "      <td>lower</td>\n",
       "    </tr>\n",
       "    <tr>\n",
       "      <th>4</th>\n",
       "      <td>session1142461300754</td>\n",
       "      <td>ad1666447310876</td>\n",
       "      <td>link1288490188810</td>\n",
       "      <td>2018-04-30T10:43:19.000-04:00</td>\n",
       "      <td>1</td>\n",
       "      <td>1</td>\n",
       "      <td>grp936302870529</td>\n",
       "      <td>lower</td>\n",
       "    </tr>\n",
       "  </tbody>\n",
       "</table>\n",
       "</div>"
      ],
      "text/plain": [
       "                     id               ad               link  \\\n",
       "0   session446676598812   ad412316860435  link1288490188810   \n",
       "1    session60129542152   ad584115552306  link1288490188810   \n",
       "2  session1511828488251  ad1056561954841  link1288490188810   \n",
       "3  session1142461300754  ad1666447310876  link1288490188810   \n",
       "4  session1142461300754  ad1666447310876  link1288490188810   \n",
       "\n",
       "                       timestamp  checkout  order_placed              grp  \\\n",
       "0  2018-04-30T14:39:22.000-04:00         1             1  grp936302870529   \n",
       "1  2018-04-30T08:39:23.000-04:00         1             1  grp936302870529   \n",
       "2  2018-04-30T17:24:01.000-04:00         1             1  grp936302870529   \n",
       "3  2018-04-30T10:42:57.000-04:00         1             1  grp936302870529   \n",
       "4  2018-04-30T10:43:19.000-04:00         1             1  grp936302870529   \n",
       "\n",
       "  funnel_level  \n",
       "0        lower  \n",
       "1        lower  \n",
       "2        lower  \n",
       "3        lower  \n",
       "4        lower  "
      ]
     },
     "execution_count": 19,
     "metadata": {},
     "output_type": "execute_result"
    }
   ],
   "source": [
    "vertrain=pd.read_csv('training_data.csv')\n",
    "vertrain.head(5)"
   ]
  },
  {
   "cell_type": "markdown",
   "metadata": {},
   "source": [
    "Verifying the full dataset columns datatypes "
   ]
  },
  {
   "cell_type": "code",
   "execution_count": 4,
   "metadata": {},
   "outputs": [
    {
     "name": "stdout",
     "output_type": "stream",
     "text": [
      "<class 'pandas.core.frame.DataFrame'>\n",
      "RangeIndex: 199410 entries, 0 to 199409\n",
      "Data columns (total 8 columns):\n",
      "id              199410 non-null object\n",
      "ad              120035 non-null object\n",
      "link            199410 non-null object\n",
      "timestamp       199410 non-null object\n",
      "checkout        199410 non-null int64\n",
      "order_placed    199410 non-null int64\n",
      "grp             199410 non-null object\n",
      "funnel_level    199410 non-null object\n",
      "dtypes: int64(2), object(6)\n",
      "memory usage: 12.2+ MB\n"
     ]
    }
   ],
   "source": [
    "vertrain.info()"
   ]
  },
  {
   "cell_type": "markdown",
   "metadata": {},
   "source": [
    "Frequency of checkout w.r.t order placed(0/1)"
   ]
  },
  {
   "cell_type": "code",
   "execution_count": 5,
   "metadata": {},
   "outputs": [
    {
     "data": {
      "text/plain": [
       "<matplotlib.axes._subplots.AxesSubplot at 0x1e71e678dd8>"
      ]
     },
     "execution_count": 5,
     "metadata": {},
     "output_type": "execute_result"
    },
    {
     "data": {
      "image/png": "[encoded data removed]",
      "text/plain": [
       "<Figure size 432x288 with 1 Axes>"
      ]
     },
     "metadata": {},
     "output_type": "display_data"
    }
   ],
   "source": [
    "import seaborn as sns\n",
    "sns.countplot(vertrain['checkout'],hue=vertrain['order_placed'])"
   ]
  },
  {
   "cell_type": "markdown",
   "metadata": {},
   "source": [
    "Frequency of order placed w.r.t funnel level"
   ]
  },
  {
   "cell_type": "code",
   "execution_count": 6,
   "metadata": {},
   "outputs": [
    {
     "data": {
      "text/plain": [
       "<matplotlib.axes._subplots.AxesSubplot at 0x1e71b833d30>"
      ]
     },
     "execution_count": 6,
     "metadata": {},
     "output_type": "execute_result"
    },
    {
     "data": {
      "image/png": "[encoded data removed]",
      "text/plain": [
       "<Figure size 432x288 with 1 Axes>"
      ]
     },
     "metadata": {},
     "output_type": "display_data"
    }
   ],
   "source": [
    "sns.countplot(vertrain['order_placed'],hue=vertrain['funnel_level'])"
   ]
  },
  {
   "cell_type": "markdown",
   "metadata": {},
   "source": [
    "Splitting the data of train set to 2 categories i.e. ad with null and ad without any missing data"
   ]
  },
  {
   "cell_type": "code",
   "execution_count": 20,
   "metadata": {},
   "outputs": [
    {
     "data": {
      "text/html": [
       "<div>\n",
       "<style scoped>\n",
       "    .dataframe tbody tr th:only-of-type {\n",
       "        vertical-align: middle;\n",
       "    }\n",
       "\n",
       "    .dataframe tbody tr th {\n",
       "        vertical-align: top;\n",
       "    }\n",
       "\n",
       "    .dataframe thead th {\n",
       "        text-align: right;\n",
       "    }\n",
       "</style>\n",
       "<table border=\"1\" class=\"dataframe\">\n",
       "  <thead>\n",
       "    <tr style=\"text-align: right;\">\n",
       "      <th></th>\n",
       "      <th>id</th>\n",
       "      <th>ad</th>\n",
       "      <th>link</th>\n",
       "      <th>timestamp</th>\n",
       "      <th>checkout</th>\n",
       "      <th>order_placed</th>\n",
       "      <th>grp</th>\n",
       "      <th>funnel_level</th>\n",
       "    </tr>\n",
       "  </thead>\n",
       "  <tbody>\n",
       "    <tr>\n",
       "      <th>797</th>\n",
       "      <td>session730144440347</td>\n",
       "      <td>NaN</td>\n",
       "      <td>link1288490188805</td>\n",
       "      <td>2018-04-30T12:42:52.000-04:00</td>\n",
       "      <td>1</td>\n",
       "      <td>0</td>\n",
       "      <td>grp627065225216</td>\n",
       "      <td>upper</td>\n",
       "    </tr>\n",
       "    <tr>\n",
       "      <th>878</th>\n",
       "      <td>session66</td>\n",
       "      <td>NaN</td>\n",
       "      <td>link1288490188816</td>\n",
       "      <td>2018-04-30T19:46:38.000-04:00</td>\n",
       "      <td>0</td>\n",
       "      <td>0</td>\n",
       "      <td>grp1340029796352</td>\n",
       "      <td>upper</td>\n",
       "    </tr>\n",
       "    <tr>\n",
       "      <th>879</th>\n",
       "      <td>session35</td>\n",
       "      <td>NaN</td>\n",
       "      <td>link1288490188816</td>\n",
       "      <td>2018-04-30T13:42:06.000-04:00</td>\n",
       "      <td>0</td>\n",
       "      <td>0</td>\n",
       "      <td>grp1340029796352</td>\n",
       "      <td>upper</td>\n",
       "    </tr>\n",
       "    <tr>\n",
       "      <th>880</th>\n",
       "      <td>session57</td>\n",
       "      <td>NaN</td>\n",
       "      <td>link1288490188816</td>\n",
       "      <td>2018-04-30T18:19:18.000-04:00</td>\n",
       "      <td>1</td>\n",
       "      <td>0</td>\n",
       "      <td>grp1340029796352</td>\n",
       "      <td>upper</td>\n",
       "    </tr>\n",
       "    <tr>\n",
       "      <th>881</th>\n",
       "      <td>session67</td>\n",
       "      <td>NaN</td>\n",
       "      <td>link1288490188816</td>\n",
       "      <td>2018-04-30T19:54:48.000-04:00</td>\n",
       "      <td>1</td>\n",
       "      <td>1</td>\n",
       "      <td>grp1340029796352</td>\n",
       "      <td>upper</td>\n",
       "    </tr>\n",
       "  </tbody>\n",
       "</table>\n",
       "</div>"
      ],
      "text/plain": [
       "                      id   ad               link  \\\n",
       "797  session730144440347  NaN  link1288490188805   \n",
       "878            session66  NaN  link1288490188816   \n",
       "879            session35  NaN  link1288490188816   \n",
       "880            session57  NaN  link1288490188816   \n",
       "881            session67  NaN  link1288490188816   \n",
       "\n",
       "                         timestamp  checkout  order_placed               grp  \\\n",
       "797  2018-04-30T12:42:52.000-04:00         1             0   grp627065225216   \n",
       "878  2018-04-30T19:46:38.000-04:00         0             0  grp1340029796352   \n",
       "879  2018-04-30T13:42:06.000-04:00         0             0  grp1340029796352   \n",
       "880  2018-04-30T18:19:18.000-04:00         1             0  grp1340029796352   \n",
       "881  2018-04-30T19:54:48.000-04:00         1             1  grp1340029796352   \n",
       "\n",
       "    funnel_level  \n",
       "797        upper  \n",
       "878        upper  \n",
       "879        upper  \n",
       "880        upper  \n",
       "881        upper  "
      ]
     },
     "execution_count": 20,
     "metadata": {},
     "output_type": "execute_result"
    }
   ],
   "source": [
    "adnull=vertrain[vertrain.ad.isnull()]\n",
    "adnull.head()"
   ]
  },
  {
   "cell_type": "code",
   "execution_count": 21,
   "metadata": {},
   "outputs": [
    {
     "data": {
      "text/html": [
       "<div>\n",
       "<style scoped>\n",
       "    .dataframe tbody tr th:only-of-type {\n",
       "        vertical-align: middle;\n",
       "    }\n",
       "\n",
       "    .dataframe tbody tr th {\n",
       "        vertical-align: top;\n",
       "    }\n",
       "\n",
       "    .dataframe thead th {\n",
       "        text-align: right;\n",
       "    }\n",
       "</style>\n",
       "<table border=\"1\" class=\"dataframe\">\n",
       "  <thead>\n",
       "    <tr style=\"text-align: right;\">\n",
       "      <th></th>\n",
       "      <th>id</th>\n",
       "      <th>ad</th>\n",
       "      <th>link</th>\n",
       "      <th>timestamp</th>\n",
       "      <th>checkout</th>\n",
       "      <th>order_placed</th>\n",
       "      <th>grp</th>\n",
       "      <th>funnel_level</th>\n",
       "    </tr>\n",
       "  </thead>\n",
       "  <tbody>\n",
       "    <tr>\n",
       "      <th>0</th>\n",
       "      <td>session446676598812</td>\n",
       "      <td>ad412316860435</td>\n",
       "      <td>link1288490188810</td>\n",
       "      <td>2018-04-30T14:39:22.000-04:00</td>\n",
       "      <td>1</td>\n",
       "      <td>1</td>\n",
       "      <td>grp936302870529</td>\n",
       "      <td>lower</td>\n",
       "    </tr>\n",
       "    <tr>\n",
       "      <th>1</th>\n",
       "      <td>session60129542152</td>\n",
       "      <td>ad584115552306</td>\n",
       "      <td>link1288490188810</td>\n",
       "      <td>2018-04-30T08:39:23.000-04:00</td>\n",
       "      <td>1</td>\n",
       "      <td>1</td>\n",
       "      <td>grp936302870529</td>\n",
       "      <td>lower</td>\n",
       "    </tr>\n",
       "    <tr>\n",
       "      <th>2</th>\n",
       "      <td>session1511828488251</td>\n",
       "      <td>ad1056561954841</td>\n",
       "      <td>link1288490188810</td>\n",
       "      <td>2018-04-30T17:24:01.000-04:00</td>\n",
       "      <td>1</td>\n",
       "      <td>1</td>\n",
       "      <td>grp936302870529</td>\n",
       "      <td>lower</td>\n",
       "    </tr>\n",
       "    <tr>\n",
       "      <th>3</th>\n",
       "      <td>session1142461300754</td>\n",
       "      <td>ad1666447310876</td>\n",
       "      <td>link1288490188810</td>\n",
       "      <td>2018-04-30T10:42:57.000-04:00</td>\n",
       "      <td>1</td>\n",
       "      <td>1</td>\n",
       "      <td>grp936302870529</td>\n",
       "      <td>lower</td>\n",
       "    </tr>\n",
       "    <tr>\n",
       "      <th>4</th>\n",
       "      <td>session1142461300754</td>\n",
       "      <td>ad1666447310876</td>\n",
       "      <td>link1288490188810</td>\n",
       "      <td>2018-04-30T10:43:19.000-04:00</td>\n",
       "      <td>1</td>\n",
       "      <td>1</td>\n",
       "      <td>grp936302870529</td>\n",
       "      <td>lower</td>\n",
       "    </tr>\n",
       "  </tbody>\n",
       "</table>\n",
       "</div>"
      ],
      "text/plain": [
       "                     id               ad               link  \\\n",
       "0   session446676598812   ad412316860435  link1288490188810   \n",
       "1    session60129542152   ad584115552306  link1288490188810   \n",
       "2  session1511828488251  ad1056561954841  link1288490188810   \n",
       "3  session1142461300754  ad1666447310876  link1288490188810   \n",
       "4  session1142461300754  ad1666447310876  link1288490188810   \n",
       "\n",
       "                       timestamp  checkout  order_placed              grp  \\\n",
       "0  2018-04-30T14:39:22.000-04:00         1             1  grp936302870529   \n",
       "1  2018-04-30T08:39:23.000-04:00         1             1  grp936302870529   \n",
       "2  2018-04-30T17:24:01.000-04:00         1             1  grp936302870529   \n",
       "3  2018-04-30T10:42:57.000-04:00         1             1  grp936302870529   \n",
       "4  2018-04-30T10:43:19.000-04:00         1             1  grp936302870529   \n",
       "\n",
       "  funnel_level  \n",
       "0        lower  \n",
       "1        lower  \n",
       "2        lower  \n",
       "3        lower  \n",
       "4        lower  "
      ]
     },
     "execution_count": 21,
     "metadata": {},
     "output_type": "execute_result"
    }
   ],
   "source": [
    "adnotnull=vertrain[vertrain.ad.notnull()]\n",
    "adnotnull.head()"
   ]
  },
  {
   "cell_type": "markdown",
   "metadata": {},
   "source": [
    "Here group by id(i.e. session) for non null ad data and getting unique id and ad.Using these details I am trying to fill the null ad data with the unique ad received from non null ad file for the same session.All other will be retained as NaNs"
   ]
  },
  {
   "cell_type": "code",
   "execution_count": 22,
   "metadata": {},
   "outputs": [
    {
     "data": {
      "text/html": [
       "<div>\n",
       "<style scoped>\n",
       "    .dataframe tbody tr th:only-of-type {\n",
       "        vertical-align: middle;\n",
       "    }\n",
       "\n",
       "    .dataframe tbody tr th {\n",
       "        vertical-align: top;\n",
       "    }\n",
       "\n",
       "    .dataframe thead th {\n",
       "        text-align: right;\n",
       "    }\n",
       "</style>\n",
       "<table border=\"1\" class=\"dataframe\">\n",
       "  <thead>\n",
       "    <tr style=\"text-align: right;\">\n",
       "      <th></th>\n",
       "      <th>id</th>\n",
       "      <th>link</th>\n",
       "      <th>timestamp</th>\n",
       "      <th>checkout</th>\n",
       "      <th>order_placed</th>\n",
       "      <th>grp</th>\n",
       "      <th>funnel_level</th>\n",
       "      <th>ad</th>\n",
       "    </tr>\n",
       "  </thead>\n",
       "  <tbody>\n",
       "    <tr>\n",
       "      <th>0</th>\n",
       "      <td>session730144440347</td>\n",
       "      <td>link1288490188805</td>\n",
       "      <td>2018-04-30T12:42:52.000-04:00</td>\n",
       "      <td>1</td>\n",
       "      <td>0</td>\n",
       "      <td>grp627065225216</td>\n",
       "      <td>upper</td>\n",
       "      <td>ad1219770712094</td>\n",
       "    </tr>\n",
       "    <tr>\n",
       "      <th>1</th>\n",
       "      <td>session66</td>\n",
       "      <td>link1288490188816</td>\n",
       "      <td>2018-04-30T19:46:38.000-04:00</td>\n",
       "      <td>0</td>\n",
       "      <td>0</td>\n",
       "      <td>grp1340029796352</td>\n",
       "      <td>upper</td>\n",
       "      <td>NaN</td>\n",
       "    </tr>\n",
       "    <tr>\n",
       "      <th>2</th>\n",
       "      <td>session35</td>\n",
       "      <td>link1288490188816</td>\n",
       "      <td>2018-04-30T13:42:06.000-04:00</td>\n",
       "      <td>0</td>\n",
       "      <td>0</td>\n",
       "      <td>grp1340029796352</td>\n",
       "      <td>upper</td>\n",
       "      <td>ad566935683078</td>\n",
       "    </tr>\n",
       "    <tr>\n",
       "      <th>3</th>\n",
       "      <td>session57</td>\n",
       "      <td>link1288490188816</td>\n",
       "      <td>2018-04-30T18:19:18.000-04:00</td>\n",
       "      <td>1</td>\n",
       "      <td>0</td>\n",
       "      <td>grp1340029796352</td>\n",
       "      <td>upper</td>\n",
       "      <td>ad1340029796357</td>\n",
       "    </tr>\n",
       "    <tr>\n",
       "      <th>4</th>\n",
       "      <td>session67</td>\n",
       "      <td>link1288490188816</td>\n",
       "      <td>2018-04-30T19:54:48.000-04:00</td>\n",
       "      <td>1</td>\n",
       "      <td>1</td>\n",
       "      <td>grp1340029796352</td>\n",
       "      <td>upper</td>\n",
       "      <td>ad1365799600132</td>\n",
       "    </tr>\n",
       "  </tbody>\n",
       "</table>\n",
       "</div>"
      ],
      "text/plain": [
       "                    id               link                      timestamp  \\\n",
       "0  session730144440347  link1288490188805  2018-04-30T12:42:52.000-04:00   \n",
       "1            session66  link1288490188816  2018-04-30T19:46:38.000-04:00   \n",
       "2            session35  link1288490188816  2018-04-30T13:42:06.000-04:00   \n",
       "3            session57  link1288490188816  2018-04-30T18:19:18.000-04:00   \n",
       "4            session67  link1288490188816  2018-04-30T19:54:48.000-04:00   \n",
       "\n",
       "   checkout  order_placed               grp funnel_level               ad  \n",
       "0         1             0   grp627065225216        upper  ad1219770712094  \n",
       "1         0             0  grp1340029796352        upper              NaN  \n",
       "2         0             0  grp1340029796352        upper   ad566935683078  \n",
       "3         1             0  grp1340029796352        upper  ad1340029796357  \n",
       "4         1             1  grp1340029796352        upper  ad1365799600132  "
      ]
     },
     "execution_count": 22,
     "metadata": {},
     "output_type": "execute_result"
    }
   ],
   "source": [
    "adnull_t1=adnotnull.groupby(['id','ad'])[['id','ad']].head()\n",
    "adnull_t2=adnull_t1.sort_values(by=['id']).groupby(adnull_t1.id).first()[['ad']].reset_index()\n",
    "adnull_fin=pd.merge(adnull,adnull_t2,on='id',how='left')\n",
    "adnull_fin['ad']=adnull_fin['ad_y']\n",
    "adnull_fin.drop(['ad_x','ad_y'],axis=1,inplace=True)\n",
    "adnull_fin.head()"
   ]
  },
  {
   "cell_type": "markdown",
   "metadata": {},
   "source": [
    "Now combine non null ad and null data data."
   ]
  },
  {
   "cell_type": "code",
   "execution_count": 23,
   "metadata": {},
   "outputs": [
    {
     "name": "stderr",
     "output_type": "stream",
     "text": [
      "C:\\Users\\madhu\\Anaconda3\\lib\\site-packages\\ipykernel_launcher.py:1: FutureWarning: Sorting because non-concatenation axis is not aligned. A future version\n",
      "of pandas will change to not sort by default.\n",
      "\n",
      "To accept the future behavior, pass 'sort=False'.\n",
      "\n",
      "To retain the current behavior and silence the warning, pass 'sort=True'.\n",
      "\n",
      "  \"\"\"Entry point for launching an IPython kernel.\n"
     ]
    },
    {
     "data": {
      "text/html": [
       "<div>\n",
       "<style scoped>\n",
       "    .dataframe tbody tr th:only-of-type {\n",
       "        vertical-align: middle;\n",
       "    }\n",
       "\n",
       "    .dataframe tbody tr th {\n",
       "        vertical-align: top;\n",
       "    }\n",
       "\n",
       "    .dataframe thead th {\n",
       "        text-align: right;\n",
       "    }\n",
       "</style>\n",
       "<table border=\"1\" class=\"dataframe\">\n",
       "  <thead>\n",
       "    <tr style=\"text-align: right;\">\n",
       "      <th></th>\n",
       "      <th>ad</th>\n",
       "      <th>checkout</th>\n",
       "      <th>funnel_level</th>\n",
       "      <th>grp</th>\n",
       "      <th>id</th>\n",
       "      <th>link</th>\n",
       "      <th>order_placed</th>\n",
       "      <th>timestamp</th>\n",
       "    </tr>\n",
       "  </thead>\n",
       "  <tbody>\n",
       "    <tr>\n",
       "      <th>0</th>\n",
       "      <td>ad412316860435</td>\n",
       "      <td>1</td>\n",
       "      <td>lower</td>\n",
       "      <td>grp936302870529</td>\n",
       "      <td>session446676598812</td>\n",
       "      <td>link1288490188810</td>\n",
       "      <td>1</td>\n",
       "      <td>2018-04-30T14:39:22.000-04:00</td>\n",
       "    </tr>\n",
       "    <tr>\n",
       "      <th>1</th>\n",
       "      <td>ad584115552306</td>\n",
       "      <td>1</td>\n",
       "      <td>lower</td>\n",
       "      <td>grp936302870529</td>\n",
       "      <td>session60129542152</td>\n",
       "      <td>link1288490188810</td>\n",
       "      <td>1</td>\n",
       "      <td>2018-04-30T08:39:23.000-04:00</td>\n",
       "    </tr>\n",
       "    <tr>\n",
       "      <th>2</th>\n",
       "      <td>ad1056561954841</td>\n",
       "      <td>1</td>\n",
       "      <td>lower</td>\n",
       "      <td>grp936302870529</td>\n",
       "      <td>session1511828488251</td>\n",
       "      <td>link1288490188810</td>\n",
       "      <td>1</td>\n",
       "      <td>2018-04-30T17:24:01.000-04:00</td>\n",
       "    </tr>\n",
       "    <tr>\n",
       "      <th>3</th>\n",
       "      <td>ad1666447310876</td>\n",
       "      <td>1</td>\n",
       "      <td>lower</td>\n",
       "      <td>grp936302870529</td>\n",
       "      <td>session1142461300754</td>\n",
       "      <td>link1288490188810</td>\n",
       "      <td>1</td>\n",
       "      <td>2018-04-30T10:42:57.000-04:00</td>\n",
       "    </tr>\n",
       "    <tr>\n",
       "      <th>4</th>\n",
       "      <td>ad1666447310876</td>\n",
       "      <td>1</td>\n",
       "      <td>lower</td>\n",
       "      <td>grp936302870529</td>\n",
       "      <td>session1142461300754</td>\n",
       "      <td>link1288490188810</td>\n",
       "      <td>1</td>\n",
       "      <td>2018-04-30T10:43:19.000-04:00</td>\n",
       "    </tr>\n",
       "  </tbody>\n",
       "</table>\n",
       "</div>"
      ],
      "text/plain": [
       "                ad  checkout funnel_level              grp  \\\n",
       "0   ad412316860435         1        lower  grp936302870529   \n",
       "1   ad584115552306         1        lower  grp936302870529   \n",
       "2  ad1056561954841         1        lower  grp936302870529   \n",
       "3  ad1666447310876         1        lower  grp936302870529   \n",
       "4  ad1666447310876         1        lower  grp936302870529   \n",
       "\n",
       "                     id               link  order_placed  \\\n",
       "0   session446676598812  link1288490188810             1   \n",
       "1    session60129542152  link1288490188810             1   \n",
       "2  session1511828488251  link1288490188810             1   \n",
       "3  session1142461300754  link1288490188810             1   \n",
       "4  session1142461300754  link1288490188810             1   \n",
       "\n",
       "                       timestamp  \n",
       "0  2018-04-30T14:39:22.000-04:00  \n",
       "1  2018-04-30T08:39:23.000-04:00  \n",
       "2  2018-04-30T17:24:01.000-04:00  \n",
       "3  2018-04-30T10:42:57.000-04:00  \n",
       "4  2018-04-30T10:43:19.000-04:00  "
      ]
     },
     "execution_count": 23,
     "metadata": {},
     "output_type": "execute_result"
    }
   ],
   "source": [
    "vertrn=pd.concat([adnotnull,adnull_fin])\n",
    "vertrn.head()"
   ]
  },
  {
   "cell_type": "markdown",
   "metadata": {},
   "source": [
    "Data correction of other fields follows here:funnel_level is categorized as 0/1 "
   ]
  },
  {
   "cell_type": "code",
   "execution_count": 24,
   "metadata": {},
   "outputs": [
    {
     "data": {
      "text/html": [
       "<div>\n",
       "<style scoped>\n",
       "    .dataframe tbody tr th:only-of-type {\n",
       "        vertical-align: middle;\n",
       "    }\n",
       "\n",
       "    .dataframe tbody tr th {\n",
       "        vertical-align: top;\n",
       "    }\n",
       "\n",
       "    .dataframe thead th {\n",
       "        text-align: right;\n",
       "    }\n",
       "</style>\n",
       "<table border=\"1\" class=\"dataframe\">\n",
       "  <thead>\n",
       "    <tr style=\"text-align: right;\">\n",
       "      <th></th>\n",
       "      <th>ad</th>\n",
       "      <th>checkout</th>\n",
       "      <th>funnel_level</th>\n",
       "      <th>grp</th>\n",
       "      <th>id</th>\n",
       "      <th>link</th>\n",
       "      <th>order_placed</th>\n",
       "      <th>timestamp</th>\n",
       "      <th>funel_lower</th>\n",
       "      <th>funel_middle</th>\n",
       "      <th>funel_upper</th>\n",
       "    </tr>\n",
       "  </thead>\n",
       "  <tbody>\n",
       "    <tr>\n",
       "      <th>0</th>\n",
       "      <td>ad412316860435</td>\n",
       "      <td>1</td>\n",
       "      <td>lower</td>\n",
       "      <td>grp936302870529</td>\n",
       "      <td>session446676598812</td>\n",
       "      <td>link1288490188810</td>\n",
       "      <td>1</td>\n",
       "      <td>2018-04-30T14:39:22.000-04:00</td>\n",
       "      <td>1</td>\n",
       "      <td>0</td>\n",
       "      <td>0</td>\n",
       "    </tr>\n",
       "    <tr>\n",
       "      <th>1</th>\n",
       "      <td>ad584115552306</td>\n",
       "      <td>1</td>\n",
       "      <td>lower</td>\n",
       "      <td>grp936302870529</td>\n",
       "      <td>session60129542152</td>\n",
       "      <td>link1288490188810</td>\n",
       "      <td>1</td>\n",
       "      <td>2018-04-30T08:39:23.000-04:00</td>\n",
       "      <td>1</td>\n",
       "      <td>0</td>\n",
       "      <td>0</td>\n",
       "    </tr>\n",
       "    <tr>\n",
       "      <th>2</th>\n",
       "      <td>ad1056561954841</td>\n",
       "      <td>1</td>\n",
       "      <td>lower</td>\n",
       "      <td>grp936302870529</td>\n",
       "      <td>session1511828488251</td>\n",
       "      <td>link1288490188810</td>\n",
       "      <td>1</td>\n",
       "      <td>2018-04-30T17:24:01.000-04:00</td>\n",
       "      <td>1</td>\n",
       "      <td>0</td>\n",
       "      <td>0</td>\n",
       "    </tr>\n",
       "    <tr>\n",
       "      <th>3</th>\n",
       "      <td>ad1666447310876</td>\n",
       "      <td>1</td>\n",
       "      <td>lower</td>\n",
       "      <td>grp936302870529</td>\n",
       "      <td>session1142461300754</td>\n",
       "      <td>link1288490188810</td>\n",
       "      <td>1</td>\n",
       "      <td>2018-04-30T10:42:57.000-04:00</td>\n",
       "      <td>1</td>\n",
       "      <td>0</td>\n",
       "      <td>0</td>\n",
       "    </tr>\n",
       "    <tr>\n",
       "      <th>4</th>\n",
       "      <td>ad1666447310876</td>\n",
       "      <td>1</td>\n",
       "      <td>lower</td>\n",
       "      <td>grp936302870529</td>\n",
       "      <td>session1142461300754</td>\n",
       "      <td>link1288490188810</td>\n",
       "      <td>1</td>\n",
       "      <td>2018-04-30T10:43:19.000-04:00</td>\n",
       "      <td>1</td>\n",
       "      <td>0</td>\n",
       "      <td>0</td>\n",
       "    </tr>\n",
       "  </tbody>\n",
       "</table>\n",
       "</div>"
      ],
      "text/plain": [
       "                ad  checkout funnel_level              grp  \\\n",
       "0   ad412316860435         1        lower  grp936302870529   \n",
       "1   ad584115552306         1        lower  grp936302870529   \n",
       "2  ad1056561954841         1        lower  grp936302870529   \n",
       "3  ad1666447310876         1        lower  grp936302870529   \n",
       "4  ad1666447310876         1        lower  grp936302870529   \n",
       "\n",
       "                     id               link  order_placed  \\\n",
       "0   session446676598812  link1288490188810             1   \n",
       "1    session60129542152  link1288490188810             1   \n",
       "2  session1511828488251  link1288490188810             1   \n",
       "3  session1142461300754  link1288490188810             1   \n",
       "4  session1142461300754  link1288490188810             1   \n",
       "\n",
       "                       timestamp  funel_lower  funel_middle  funel_upper  \n",
       "0  2018-04-30T14:39:22.000-04:00            1             0            0  \n",
       "1  2018-04-30T08:39:23.000-04:00            1             0            0  \n",
       "2  2018-04-30T17:24:01.000-04:00            1             0            0  \n",
       "3  2018-04-30T10:42:57.000-04:00            1             0            0  \n",
       "4  2018-04-30T10:43:19.000-04:00            1             0            0  "
      ]
     },
     "execution_count": 24,
     "metadata": {},
     "output_type": "execute_result"
    }
   ],
   "source": [
    "vertrn=pd.concat([vertrn,pd.get_dummies(vertrn['funnel_level'],prefix='funel')],axis=1)\n",
    "vertrn.head()"
   ]
  },
  {
   "cell_type": "markdown",
   "metadata": {},
   "source": [
    "Create a new variable session out of id"
   ]
  },
  {
   "cell_type": "code",
   "execution_count": 25,
   "metadata": {},
   "outputs": [],
   "source": [
    "vertrn['session']=[x[7:] for x in vertrn['id']]"
   ]
  },
  {
   "cell_type": "markdown",
   "metadata": {},
   "source": [
    "Create a new variable ad_1 out of ad and fill with 0 for all Nan"
   ]
  },
  {
   "cell_type": "code",
   "execution_count": 26,
   "metadata": {},
   "outputs": [],
   "source": [
    "vertrn['ad_1']=[x[2:] if x[0:2]=='ad' else 0 for x in vertrn['ad'].astype('str').replace(\" \",\"\")]"
   ]
  },
  {
   "cell_type": "markdown",
   "metadata": {},
   "source": [
    "Create a link_1 out of link"
   ]
  },
  {
   "cell_type": "code",
   "execution_count": 27,
   "metadata": {},
   "outputs": [],
   "source": [
    "vertrn['link_1']=[x[4:] for x in vertrn['link']]"
   ]
  },
  {
   "cell_type": "markdown",
   "metadata": {},
   "source": [
    "Create date/time/hours from Timestamp"
   ]
  },
  {
   "cell_type": "code",
   "execution_count": 28,
   "metadata": {},
   "outputs": [
    {
     "data": {
      "text/plain": [
       "0    400\n",
       "1    400\n",
       "2    400\n",
       "3    400\n",
       "4    400\n",
       "Name: hours, dtype: int32"
      ]
     },
     "execution_count": 28,
     "metadata": {},
     "output_type": "execute_result"
    }
   ],
   "source": [
    "vertrn['date']=[b[0:10].replace(\"-\",\"\") for b in vertrn['timestamp']]\n",
    "vertrn['time']=[j[11:19].replace(\":\",\"\") for j in vertrn['timestamp']]\n",
    "vertrn['hours']=[l[20:29].replace(\"-\",\"\").replace(\":\",\"\") for l in vertrn['timestamp']]\n",
    "vertrn['date'].astype(int).head(5)\n",
    "vertrn['time'].astype(int).head(2)\n",
    "vertrn['hours'].astype(int).head(5)"
   ]
  },
  {
   "cell_type": "markdown",
   "metadata": {},
   "source": [
    "Create grp_1 from grp"
   ]
  },
  {
   "cell_type": "code",
   "execution_count": 29,
   "metadata": {},
   "outputs": [],
   "source": [
    "vertrn['grp_1']=[x[3:] for x in vertrn['grp'].replace(\" \",\"\")]"
   ]
  },
  {
   "cell_type": "markdown",
   "metadata": {},
   "source": [
    "Once data is cleaned up trying to see the first 5 obs"
   ]
  },
  {
   "cell_type": "code",
   "execution_count": 30,
   "metadata": {},
   "outputs": [
    {
     "data": {
      "text/html": [
       "<div>\n",
       "<style scoped>\n",
       "    .dataframe tbody tr th:only-of-type {\n",
       "        vertical-align: middle;\n",
       "    }\n",
       "\n",
       "    .dataframe tbody tr th {\n",
       "        vertical-align: top;\n",
       "    }\n",
       "\n",
       "    .dataframe thead th {\n",
       "        text-align: right;\n",
       "    }\n",
       "</style>\n",
       "<table border=\"1\" class=\"dataframe\">\n",
       "  <thead>\n",
       "    <tr style=\"text-align: right;\">\n",
       "      <th></th>\n",
       "      <th>ad</th>\n",
       "      <th>checkout</th>\n",
       "      <th>funnel_level</th>\n",
       "      <th>grp</th>\n",
       "      <th>id</th>\n",
       "      <th>link</th>\n",
       "      <th>order_placed</th>\n",
       "      <th>timestamp</th>\n",
       "      <th>funel_lower</th>\n",
       "      <th>funel_middle</th>\n",
       "      <th>funel_upper</th>\n",
       "      <th>session</th>\n",
       "      <th>ad_1</th>\n",
       "      <th>link_1</th>\n",
       "      <th>date</th>\n",
       "      <th>time</th>\n",
       "      <th>hours</th>\n",
       "      <th>grp_1</th>\n",
       "    </tr>\n",
       "  </thead>\n",
       "  <tbody>\n",
       "    <tr>\n",
       "      <th>0</th>\n",
       "      <td>ad412316860435</td>\n",
       "      <td>1</td>\n",
       "      <td>lower</td>\n",
       "      <td>grp936302870529</td>\n",
       "      <td>session446676598812</td>\n",
       "      <td>link1288490188810</td>\n",
       "      <td>1</td>\n",
       "      <td>2018-04-30T14:39:22.000-04:00</td>\n",
       "      <td>1</td>\n",
       "      <td>0</td>\n",
       "      <td>0</td>\n",
       "      <td>446676598812</td>\n",
       "      <td>412316860435</td>\n",
       "      <td>1288490188810</td>\n",
       "      <td>20180430</td>\n",
       "      <td>143922</td>\n",
       "      <td>0000400</td>\n",
       "      <td>936302870529</td>\n",
       "    </tr>\n",
       "    <tr>\n",
       "      <th>1</th>\n",
       "      <td>ad584115552306</td>\n",
       "      <td>1</td>\n",
       "      <td>lower</td>\n",
       "      <td>grp936302870529</td>\n",
       "      <td>session60129542152</td>\n",
       "      <td>link1288490188810</td>\n",
       "      <td>1</td>\n",
       "      <td>2018-04-30T08:39:23.000-04:00</td>\n",
       "      <td>1</td>\n",
       "      <td>0</td>\n",
       "      <td>0</td>\n",
       "      <td>60129542152</td>\n",
       "      <td>584115552306</td>\n",
       "      <td>1288490188810</td>\n",
       "      <td>20180430</td>\n",
       "      <td>083923</td>\n",
       "      <td>0000400</td>\n",
       "      <td>936302870529</td>\n",
       "    </tr>\n",
       "    <tr>\n",
       "      <th>2</th>\n",
       "      <td>ad1056561954841</td>\n",
       "      <td>1</td>\n",
       "      <td>lower</td>\n",
       "      <td>grp936302870529</td>\n",
       "      <td>session1511828488251</td>\n",
       "      <td>link1288490188810</td>\n",
       "      <td>1</td>\n",
       "      <td>2018-04-30T17:24:01.000-04:00</td>\n",
       "      <td>1</td>\n",
       "      <td>0</td>\n",
       "      <td>0</td>\n",
       "      <td>1511828488251</td>\n",
       "      <td>1056561954841</td>\n",
       "      <td>1288490188810</td>\n",
       "      <td>20180430</td>\n",
       "      <td>172401</td>\n",
       "      <td>0000400</td>\n",
       "      <td>936302870529</td>\n",
       "    </tr>\n",
       "    <tr>\n",
       "      <th>3</th>\n",
       "      <td>ad1666447310876</td>\n",
       "      <td>1</td>\n",
       "      <td>lower</td>\n",
       "      <td>grp936302870529</td>\n",
       "      <td>session1142461300754</td>\n",
       "      <td>link1288490188810</td>\n",
       "      <td>1</td>\n",
       "      <td>2018-04-30T10:42:57.000-04:00</td>\n",
       "      <td>1</td>\n",
       "      <td>0</td>\n",
       "      <td>0</td>\n",
       "      <td>1142461300754</td>\n",
       "      <td>1666447310876</td>\n",
       "      <td>1288490188810</td>\n",
       "      <td>20180430</td>\n",
       "      <td>104257</td>\n",
       "      <td>0000400</td>\n",
       "      <td>936302870529</td>\n",
       "    </tr>\n",
       "    <tr>\n",
       "      <th>4</th>\n",
       "      <td>ad1666447310876</td>\n",
       "      <td>1</td>\n",
       "      <td>lower</td>\n",
       "      <td>grp936302870529</td>\n",
       "      <td>session1142461300754</td>\n",
       "      <td>link1288490188810</td>\n",
       "      <td>1</td>\n",
       "      <td>2018-04-30T10:43:19.000-04:00</td>\n",
       "      <td>1</td>\n",
       "      <td>0</td>\n",
       "      <td>0</td>\n",
       "      <td>1142461300754</td>\n",
       "      <td>1666447310876</td>\n",
       "      <td>1288490188810</td>\n",
       "      <td>20180430</td>\n",
       "      <td>104319</td>\n",
       "      <td>0000400</td>\n",
       "      <td>936302870529</td>\n",
       "    </tr>\n",
       "  </tbody>\n",
       "</table>\n",
       "</div>"
      ],
      "text/plain": [
       "                ad  checkout funnel_level              grp  \\\n",
       "0   ad412316860435         1        lower  grp936302870529   \n",
       "1   ad584115552306         1        lower  grp936302870529   \n",
       "2  ad1056561954841         1        lower  grp936302870529   \n",
       "3  ad1666447310876         1        lower  grp936302870529   \n",
       "4  ad1666447310876         1        lower  grp936302870529   \n",
       "\n",
       "                     id               link  order_placed  \\\n",
       "0   session446676598812  link1288490188810             1   \n",
       "1    session60129542152  link1288490188810             1   \n",
       "2  session1511828488251  link1288490188810             1   \n",
       "3  session1142461300754  link1288490188810             1   \n",
       "4  session1142461300754  link1288490188810             1   \n",
       "\n",
       "                       timestamp  funel_lower  funel_middle  funel_upper  \\\n",
       "0  2018-04-30T14:39:22.000-04:00            1             0            0   \n",
       "1  2018-04-30T08:39:23.000-04:00            1             0            0   \n",
       "2  2018-04-30T17:24:01.000-04:00            1             0            0   \n",
       "3  2018-04-30T10:42:57.000-04:00            1             0            0   \n",
       "4  2018-04-30T10:43:19.000-04:00            1             0            0   \n",
       "\n",
       "         session           ad_1         link_1      date    time    hours  \\\n",
       "0   446676598812   412316860435  1288490188810  20180430  143922  0000400   \n",
       "1    60129542152   584115552306  1288490188810  20180430  083923  0000400   \n",
       "2  1511828488251  1056561954841  1288490188810  20180430  172401  0000400   \n",
       "3  1142461300754  1666447310876  1288490188810  20180430  104257  0000400   \n",
       "4  1142461300754  1666447310876  1288490188810  20180430  104319  0000400   \n",
       "\n",
       "          grp_1  \n",
       "0  936302870529  \n",
       "1  936302870529  \n",
       "2  936302870529  \n",
       "3  936302870529  \n",
       "4  936302870529  "
      ]
     },
     "execution_count": 30,
     "metadata": {},
     "output_type": "execute_result"
    }
   ],
   "source": [
    "vertrn.head()"
   ]
  },
  {
   "cell_type": "markdown",
   "metadata": {},
   "source": [
    "Features Selection"
   ]
  },
  {
   "cell_type": "code",
   "execution_count": 31,
   "metadata": {},
   "outputs": [],
   "source": [
    "ver=vertrn\n",
    "ver['session']=ver['session'].astype('float')\n",
    "ver['link_1']=ver['link_1'].astype('float')\n",
    "ver['time']=ver['time'].astype('float')\n",
    "X=ver[['session','link_1','funel_lower','funel_upper','time']]"
   ]
  },
  {
   "cell_type": "markdown",
   "metadata": {},
   "source": [
    "Label selection"
   ]
  },
  {
   "cell_type": "code",
   "execution_count": 32,
   "metadata": {},
   "outputs": [],
   "source": [
    "y=vertrn['order_placed']"
   ]
  },
  {
   "cell_type": "markdown",
   "metadata": {},
   "source": [
    "Training the model with Logistic and finding the accuracy thru confusion matrix and classification report"
   ]
  },
  {
   "cell_type": "code",
   "execution_count": 33,
   "metadata": {},
   "outputs": [],
   "source": [
    "from sklearn.model_selection import train_test_split\n",
    "X_train,X_test,y_train,y_test=train_test_split(X,y,test_size=0.3,random_state=29)\n",
    "from sklearn.linear_model import LogisticRegression\n",
    "lr=LogisticRegression()\n",
    "lr.fit(X_train,y_train)\n",
    "pd=lr.predict(X_test)"
   ]
  },
  {
   "cell_type": "code",
   "execution_count": 34,
   "metadata": {},
   "outputs": [
    {
     "name": "stdout",
     "output_type": "stream",
     "text": [
      "[[48009     0]\n",
      " [11814     0]]\n",
      "             precision    recall  f1-score   support\n",
      "\n",
      "          0       0.80      1.00      0.89     48009\n",
      "          1       0.00      0.00      0.00     11814\n",
      "\n",
      "avg / total       0.64      0.80      0.71     59823\n",
      "\n"
     ]
    },
    {
     "name": "stderr",
     "output_type": "stream",
     "text": [
      "C:\\Users\\madhu\\Anaconda3\\lib\\site-packages\\sklearn\\metrics\\classification.py:1135: UndefinedMetricWarning: Precision and F-score are ill-defined and being set to 0.0 in labels with no predicted samples.\n",
      "  'precision', 'predicted', average, warn_for)\n"
     ]
    }
   ],
   "source": [
    "from sklearn.metrics import confusion_matrix,classification_report\n",
    "print(confusion_matrix(y_test,pd))\n",
    "print(classification_report(y_test,pd))"
   ]
  },
  {
   "cell_type": "markdown",
   "metadata": {},
   "source": [
    "Training the model with Random Forest algo and verifying the accuracy"
   ]
  },
  {
   "cell_type": "code",
   "execution_count": 35,
   "metadata": {},
   "outputs": [
    {
     "data": {
      "text/plain": [
       "RandomForestClassifier(bootstrap=True, class_weight=None, criterion='entropy',\n",
       "            max_depth=None, max_features='auto', max_leaf_nodes=None,\n",
       "            min_impurity_decrease=0.0, min_impurity_split=None,\n",
       "            min_samples_leaf=1, min_samples_split=2,\n",
       "            min_weight_fraction_leaf=0.0, n_estimators=500, n_jobs=1,\n",
       "            oob_score=False, random_state=29, verbose=0, warm_start=False)"
      ]
     },
     "execution_count": 35,
     "metadata": {},
     "output_type": "execute_result"
    }
   ],
   "source": [
    "from sklearn.ensemble import RandomForestClassifier\n",
    "RF=RandomForestClassifier(n_estimators=500,criterion='entropy',random_state=29)\n",
    "RF.fit(X_train,y_train)"
   ]
  },
  {
   "cell_type": "code",
   "execution_count": 36,
   "metadata": {},
   "outputs": [],
   "source": [
    "pdrf=RF.predict(X_test)"
   ]
  },
  {
   "cell_type": "code",
   "execution_count": 37,
   "metadata": {},
   "outputs": [
    {
     "data": {
      "text/plain": [
       "array([0.28407717, 0.14704829, 0.11635947, 0.0551308 , 0.39738427])"
      ]
     },
     "execution_count": 37,
     "metadata": {},
     "output_type": "execute_result"
    }
   ],
   "source": [
    "RF.feature_importances_"
   ]
  },
  {
   "cell_type": "code",
   "execution_count": 38,
   "metadata": {},
   "outputs": [
    {
     "name": "stdout",
     "output_type": "stream",
     "text": [
      "[[46784  1225]\n",
      " [ 3775  8039]]\n",
      "             precision    recall  f1-score   support\n",
      "\n",
      "          0       0.93      0.97      0.95     48009\n",
      "          1       0.87      0.68      0.76     11814\n",
      "\n",
      "avg / total       0.91      0.92      0.91     59823\n",
      "\n"
     ]
    }
   ],
   "source": [
    "print(confusion_matrix(y_test,pdrf))\n",
    "print(classification_report(y_test,pdrf))\n"
   ]
  },
  {
   "cell_type": "markdown",
   "metadata": {},
   "source": [
    "Training with XG Boost Classifier and verifying the accuracy"
   ]
  },
  {
   "cell_type": "code",
   "execution_count": 39,
   "metadata": {},
   "outputs": [
    {
     "name": "stderr",
     "output_type": "stream",
     "text": [
      "C:\\Users\\madhu\\Anaconda3\\lib\\site-packages\\sklearn\\preprocessing\\label.py:151: DeprecationWarning: The truth value of an empty array is ambiguous. Returning False, but in future this will result in an error. Use `array.size > 0` to check that an array is not empty.\n",
      "  if diff:\n"
     ]
    },
    {
     "data": {
      "text/plain": [
       "0.8566822125269545"
      ]
     },
     "execution_count": 39,
     "metadata": {},
     "output_type": "execute_result"
    }
   ],
   "source": [
    "import xgboost as xgb\n",
    "model=xgb.XGBClassifier(n_estimators=500) \n",
    "model.fit(X,y)\n",
    "model.score(X,y)"
   ]
  },
  {
   "cell_type": "markdown",
   "metadata": {},
   "source": [
    "Reading the test data"
   ]
  },
  {
   "cell_type": "code",
   "execution_count": 58,
   "metadata": {},
   "outputs": [],
   "source": [
    "import pandas as pd\n",
    "vertest=pd.read_csv('testing_data.csv')\n"
   ]
  },
  {
   "cell_type": "markdown",
   "metadata": {},
   "source": [
    "Cleanign the ad field similarly as we did for train"
   ]
  },
  {
   "cell_type": "code",
   "execution_count": 59,
   "metadata": {},
   "outputs": [
    {
     "name": "stdout",
     "output_type": "stream",
     "text": [
      "<class 'pandas.core.frame.DataFrame'>\n",
      "Int64Index: 19848 entries, 0 to 19847\n",
      "Data columns (total 6 columns):\n",
      "id              19848 non-null object\n",
      "link            19848 non-null object\n",
      "timestamp       19848 non-null object\n",
      "grp             19848 non-null object\n",
      "funnel_level    19848 non-null object\n",
      "ad              14014 non-null object\n",
      "dtypes: object(6)\n",
      "memory usage: 1.1+ MB\n",
      "None\n"
     ]
    },
    {
     "name": "stderr",
     "output_type": "stream",
     "text": [
      "C:\\Users\\madhu\\Anaconda3\\lib\\site-packages\\ipykernel_launcher.py:9: FutureWarning: Sorting because non-concatenation axis is not aligned. A future version\n",
      "of pandas will change to not sort by default.\n",
      "\n",
      "To accept the future behavior, pass 'sort=False'.\n",
      "\n",
      "To retain the current behavior and silence the warning, pass 'sort=True'.\n",
      "\n",
      "  if __name__ == '__main__':\n"
     ]
    }
   ],
   "source": [
    "adnull_tst=vertest[vertest.ad.isnull()]\n",
    "adnotnull_tst=vertest[vertest.ad.notnull()]\n",
    "adnotnull_tst1=adnotnull_tst.groupby(['id','ad'])[['id','ad']].head()\n",
    "adnotnull_tst2=adnotnull_tst1.sort_values(by=['id']).groupby(adnotnull_tst1.id).first()[['ad']].reset_index()\n",
    "adnull_fin=pd.merge(adnull_tst,adnotnull_tst2,on='id',how='left')\n",
    "adnull_fin['ad']=adnull_fin['ad_y']\n",
    "adnull_fin.drop(['ad_x','ad_y'],axis=1,inplace=True)\n",
    "print(adnull_fin.info())\n",
    "vertst=pd.concat([adnotnull_tst,adnull_fin])\n"
   ]
  },
  {
   "cell_type": "markdown",
   "metadata": {},
   "source": [
    "Cleaning the other fields "
   ]
  },
  {
   "cell_type": "code",
   "execution_count": 60,
   "metadata": {},
   "outputs": [],
   "source": [
    "vertst['session']=[x[7:] for x in vertst['id']]\n",
    "vertst['ad_1']=[x[2:] if x[0:2]=='ad' else 0 for x in vertst['ad'].astype('str').replace(\" \",\"\")]\n",
    "vertst['link_1']=[x[4:] for x in vertst['link']]\n",
    "vertst['date']=[b[0:10].replace(\"-\",\"\") for b in vertst['timestamp']]\n",
    "vertst['time']=[j[11:19].replace(\":\",\"\") for j in vertst['timestamp']]\n",
    "vertst['hours']=[l[20:29].replace(\"-\",\"\").replace(\":\",\"\") for l in vertst['timestamp']]\n",
    "vertst['date'].astype(int).head(5)\n",
    "vertst['time'].astype(int).head(2)\n",
    "vertst['hours'].astype(int).head(5)\n",
    "vertst['grp_1']=[x[3:] for x in vertst['grp'].replace(\" \",\"\")]\n",
    "vertst=pd.concat([vertst,pd.get_dummies(vertst['funnel_level'],prefix='funel')],axis=1)"
   ]
  },
  {
   "cell_type": "markdown",
   "metadata": {},
   "source": [
    "Verifying the complete dataset"
   ]
  },
  {
   "cell_type": "code",
   "execution_count": 61,
   "metadata": {},
   "outputs": [
    {
     "name": "stdout",
     "output_type": "stream",
     "text": [
      "<class 'pandas.core.frame.DataFrame'>\n",
      "Int64Index: 49414 entries, 0 to 19847\n",
      "Data columns (total 16 columns):\n",
      "ad              43580 non-null object\n",
      "funnel_level    49414 non-null object\n",
      "grp             49414 non-null object\n",
      "id              49414 non-null object\n",
      "link            49414 non-null object\n",
      "timestamp       49414 non-null object\n",
      "session         49414 non-null object\n",
      "ad_1            49414 non-null object\n",
      "link_1          49414 non-null object\n",
      "date            49414 non-null object\n",
      "time            49414 non-null object\n",
      "hours           49414 non-null object\n",
      "grp_1           49414 non-null object\n",
      "funel_lower     49414 non-null uint8\n",
      "funel_middle    49414 non-null uint8\n",
      "funel_upper     49414 non-null uint8\n",
      "dtypes: object(13), uint8(3)\n",
      "memory usage: 5.4+ MB\n"
     ]
    }
   ],
   "source": [
    "vertst.info()"
   ]
  },
  {
   "cell_type": "markdown",
   "metadata": {},
   "source": [
    "Feature Selection"
   ]
  },
  {
   "cell_type": "code",
   "execution_count": 63,
   "metadata": {},
   "outputs": [],
   "source": [
    "vert=vertst\n",
    "vert['session']=vert['session'].astype('float')\n",
    "vert['link_1']=vert['link_1'].astype('float')\n",
    "vert['time']=vert['time'].astype('float')\n",
    "XG=vert[['session','link_1','funel_lower','funel_upper','time']]"
   ]
  },
  {
   "cell_type": "markdown",
   "metadata": {},
   "source": [
    "Predicting with XG Boost as it gave good accuracy"
   ]
  },
  {
   "cell_type": "code",
   "execution_count": 66,
   "metadata": {},
   "outputs": [
    {
     "name": "stderr",
     "output_type": "stream",
     "text": [
      "C:\\Users\\madhu\\Anaconda3\\lib\\site-packages\\sklearn\\preprocessing\\label.py:151: DeprecationWarning: The truth value of an empty array is ambiguous. Returning False, but in future this will result in an error. Use `array.size > 0` to check that an array is not empty.\n",
      "  if diff:\n"
     ]
    }
   ],
   "source": [
    "pdxgt=model.predict(XG)\n",
    "vertst['order_placed']=pdxgt\n",
    "final_data=vertst[['id','order_placed']]\n",
    "final_data.to_csv('submission_file3.csv',index=False)"
   ]
  },
  {
   "cell_type": "code",
   "execution_count": null,
   "metadata": {},
   "outputs": [],
   "source": []
  }
 ],
 "metadata": {
  "kernelspec": {
   "display_name": "Python 3",
   "language": "python",
   "name": "python3"
  },
  "language_info": {
   "codemirror_mode": {
    "name": "ipython",
    "version": 3
   },
   "file_extension": ".py",
   "mimetype": "text/x-python",
   "name": "python",
   "nbconvert_exporter": "python",
   "pygments_lexer": "ipython3",
   "version": "3.6.4"
  }
 },
 "nbformat": 4,
 "nbformat_minor": 2
}
