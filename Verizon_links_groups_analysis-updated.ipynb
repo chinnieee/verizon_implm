{
 "cells": [
  {
   "cell_type": "markdown",
   "metadata": {},
   "source": [
    "Importing Libraries"
   ]
  },
  {
   "cell_type": "code",
   "execution_count": 1,
   "metadata": {},
   "outputs": [],
   "source": [
    "import pandas as pd\n",
    "import numpy as np\n",
    "import matplotlib.pyplot as plt\n",
    "import seaborn as sns\n",
    "import os\n",
    "import datetime as dt\n",
    "%matplotlib inline"
   ]
  },
  {
   "cell_type": "markdown",
   "metadata": {},
   "source": [
    "Setting the path and reading the train data set"
   ]
  },
  {
   "cell_type": "code",
   "execution_count": 2,
   "metadata": {},
   "outputs": [],
   "source": [
    "os.getcwd()\n",
    "os.chdir('C:\\\\Users\\madhu\\Verizon\\FullDataSet')"
   ]
  },
  {
   "cell_type": "code",
   "execution_count": 3,
   "metadata": {},
   "outputs": [
    {
     "data": {
      "text/html": [
       "<div>\n",
       "<style scoped>\n",
       "    .dataframe tbody tr th:only-of-type {\n",
       "        vertical-align: middle;\n",
       "    }\n",
       "\n",
       "    .dataframe tbody tr th {\n",
       "        vertical-align: top;\n",
       "    }\n",
       "\n",
       "    .dataframe thead th {\n",
       "        text-align: right;\n",
       "    }\n",
       "</style>\n",
       "<table border=\"1\" class=\"dataframe\">\n",
       "  <thead>\n",
       "    <tr style=\"text-align: right;\">\n",
       "      <th></th>\n",
       "      <th>id</th>\n",
       "      <th>ad</th>\n",
       "      <th>link</th>\n",
       "      <th>timestamp</th>\n",
       "      <th>checkout</th>\n",
       "      <th>order_placed</th>\n",
       "      <th>grp</th>\n",
       "      <th>funnel_level</th>\n",
       "    </tr>\n",
       "  </thead>\n",
       "  <tbody>\n",
       "    <tr>\n",
       "      <th>0</th>\n",
       "      <td>session446676598812</td>\n",
       "      <td>ad412316860435</td>\n",
       "      <td>link1288490188810</td>\n",
       "      <td>2018-04-30T14:39:22.000-04:00</td>\n",
       "      <td>1</td>\n",
       "      <td>1</td>\n",
       "      <td>grp936302870529</td>\n",
       "      <td>lower</td>\n",
       "    </tr>\n",
       "    <tr>\n",
       "      <th>1</th>\n",
       "      <td>session60129542152</td>\n",
       "      <td>ad584115552306</td>\n",
       "      <td>link1288490188810</td>\n",
       "      <td>2018-04-30T08:39:23.000-04:00</td>\n",
       "      <td>1</td>\n",
       "      <td>1</td>\n",
       "      <td>grp936302870529</td>\n",
       "      <td>lower</td>\n",
       "    </tr>\n",
       "    <tr>\n",
       "      <th>2</th>\n",
       "      <td>session1511828488251</td>\n",
       "      <td>ad1056561954841</td>\n",
       "      <td>link1288490188810</td>\n",
       "      <td>2018-04-30T17:24:01.000-04:00</td>\n",
       "      <td>1</td>\n",
       "      <td>1</td>\n",
       "      <td>grp936302870529</td>\n",
       "      <td>lower</td>\n",
       "    </tr>\n",
       "    <tr>\n",
       "      <th>3</th>\n",
       "      <td>session1142461300754</td>\n",
       "      <td>ad1666447310876</td>\n",
       "      <td>link1288490188810</td>\n",
       "      <td>2018-04-30T10:42:57.000-04:00</td>\n",
       "      <td>1</td>\n",
       "      <td>1</td>\n",
       "      <td>grp936302870529</td>\n",
       "      <td>lower</td>\n",
       "    </tr>\n",
       "    <tr>\n",
       "      <th>4</th>\n",
       "      <td>session1142461300754</td>\n",
       "      <td>ad1666447310876</td>\n",
       "      <td>link1288490188810</td>\n",
       "      <td>2018-04-30T10:43:19.000-04:00</td>\n",
       "      <td>1</td>\n",
       "      <td>1</td>\n",
       "      <td>grp936302870529</td>\n",
       "      <td>lower</td>\n",
       "    </tr>\n",
       "  </tbody>\n",
       "</table>\n",
       "</div>"
      ],
      "text/plain": [
       "                     id               ad               link  \\\n",
       "0   session446676598812   ad412316860435  link1288490188810   \n",
       "1    session60129542152   ad584115552306  link1288490188810   \n",
       "2  session1511828488251  ad1056561954841  link1288490188810   \n",
       "3  session1142461300754  ad1666447310876  link1288490188810   \n",
       "4  session1142461300754  ad1666447310876  link1288490188810   \n",
       "\n",
       "                       timestamp  checkout  order_placed              grp  \\\n",
       "0  2018-04-30T14:39:22.000-04:00         1             1  grp936302870529   \n",
       "1  2018-04-30T08:39:23.000-04:00         1             1  grp936302870529   \n",
       "2  2018-04-30T17:24:01.000-04:00         1             1  grp936302870529   \n",
       "3  2018-04-30T10:42:57.000-04:00         1             1  grp936302870529   \n",
       "4  2018-04-30T10:43:19.000-04:00         1             1  grp936302870529   \n",
       "\n",
       "  funnel_level  \n",
       "0        lower  \n",
       "1        lower  \n",
       "2        lower  \n",
       "3        lower  \n",
       "4        lower  "
      ]
     },
     "execution_count": 3,
     "metadata": {},
     "output_type": "execute_result"
    }
   ],
   "source": [
    "vertrain=pd.read_csv('training_data.csv')\n",
    "vertrain.head(5)"
   ]
  },
  {
   "cell_type": "markdown",
   "metadata": {},
   "source": [
    "Cleaning the data"
   ]
  },
  {
   "cell_type": "code",
   "execution_count": 4,
   "metadata": {},
   "outputs": [
    {
     "data": {
      "text/html": [
       "<div>\n",
       "<style scoped>\n",
       "    .dataframe tbody tr th:only-of-type {\n",
       "        vertical-align: middle;\n",
       "    }\n",
       "\n",
       "    .dataframe tbody tr th {\n",
       "        vertical-align: top;\n",
       "    }\n",
       "\n",
       "    .dataframe thead th {\n",
       "        text-align: right;\n",
       "    }\n",
       "</style>\n",
       "<table border=\"1\" class=\"dataframe\">\n",
       "  <thead>\n",
       "    <tr style=\"text-align: right;\">\n",
       "      <th></th>\n",
       "      <th>id</th>\n",
       "      <th>link</th>\n",
       "      <th>timestamp</th>\n",
       "      <th>checkout</th>\n",
       "      <th>order_placed</th>\n",
       "      <th>grp</th>\n",
       "      <th>funnel_level</th>\n",
       "      <th>ad</th>\n",
       "    </tr>\n",
       "  </thead>\n",
       "  <tbody>\n",
       "    <tr>\n",
       "      <th>0</th>\n",
       "      <td>session730144440347</td>\n",
       "      <td>link1288490188805</td>\n",
       "      <td>2018-04-30T12:42:52.000-04:00</td>\n",
       "      <td>1</td>\n",
       "      <td>0</td>\n",
       "      <td>grp627065225216</td>\n",
       "      <td>upper</td>\n",
       "      <td>ad1219770712094</td>\n",
       "    </tr>\n",
       "    <tr>\n",
       "      <th>1</th>\n",
       "      <td>session66</td>\n",
       "      <td>link1288490188816</td>\n",
       "      <td>2018-04-30T19:46:38.000-04:00</td>\n",
       "      <td>0</td>\n",
       "      <td>0</td>\n",
       "      <td>grp1340029796352</td>\n",
       "      <td>upper</td>\n",
       "      <td>NaN</td>\n",
       "    </tr>\n",
       "    <tr>\n",
       "      <th>2</th>\n",
       "      <td>session35</td>\n",
       "      <td>link1288490188816</td>\n",
       "      <td>2018-04-30T13:42:06.000-04:00</td>\n",
       "      <td>0</td>\n",
       "      <td>0</td>\n",
       "      <td>grp1340029796352</td>\n",
       "      <td>upper</td>\n",
       "      <td>ad566935683078</td>\n",
       "    </tr>\n",
       "    <tr>\n",
       "      <th>3</th>\n",
       "      <td>session57</td>\n",
       "      <td>link1288490188816</td>\n",
       "      <td>2018-04-30T18:19:18.000-04:00</td>\n",
       "      <td>1</td>\n",
       "      <td>0</td>\n",
       "      <td>grp1340029796352</td>\n",
       "      <td>upper</td>\n",
       "      <td>ad1340029796357</td>\n",
       "    </tr>\n",
       "    <tr>\n",
       "      <th>4</th>\n",
       "      <td>session67</td>\n",
       "      <td>link1288490188816</td>\n",
       "      <td>2018-04-30T19:54:48.000-04:00</td>\n",
       "      <td>1</td>\n",
       "      <td>1</td>\n",
       "      <td>grp1340029796352</td>\n",
       "      <td>upper</td>\n",
       "      <td>ad1365799600132</td>\n",
       "    </tr>\n",
       "  </tbody>\n",
       "</table>\n",
       "</div>"
      ],
      "text/plain": [
       "                    id               link                      timestamp  \\\n",
       "0  session730144440347  link1288490188805  2018-04-30T12:42:52.000-04:00   \n",
       "1            session66  link1288490188816  2018-04-30T19:46:38.000-04:00   \n",
       "2            session35  link1288490188816  2018-04-30T13:42:06.000-04:00   \n",
       "3            session57  link1288490188816  2018-04-30T18:19:18.000-04:00   \n",
       "4            session67  link1288490188816  2018-04-30T19:54:48.000-04:00   \n",
       "\n",
       "   checkout  order_placed               grp funnel_level               ad  \n",
       "0         1             0   grp627065225216        upper  ad1219770712094  \n",
       "1         0             0  grp1340029796352        upper              NaN  \n",
       "2         0             0  grp1340029796352        upper   ad566935683078  \n",
       "3         1             0  grp1340029796352        upper  ad1340029796357  \n",
       "4         1             1  grp1340029796352        upper  ad1365799600132  "
      ]
     },
     "execution_count": 4,
     "metadata": {},
     "output_type": "execute_result"
    }
   ],
   "source": [
    "adnull=vertrain[vertrain.ad.isnull()]\n",
    "adnotnull=vertrain[vertrain.ad.notnull()]\n",
    "adnull_t1=adnotnull.groupby(['id','ad'])[['id','ad']].head()\n",
    "adnull_t2=adnull_t1.sort_values(by=['id']).groupby(adnull_t1.id).first()[['ad']].reset_index()\n",
    "adnull_fin=pd.merge(adnull,adnull_t2,on='id',how='left')\n",
    "adnull_fin['ad']=adnull_fin['ad_y']\n",
    "adnull_fin.drop(['ad_x','ad_y'],axis=1,inplace=True)\n",
    "adnull_fin.head()"
   ]
  },
  {
   "cell_type": "markdown",
   "metadata": {},
   "source": [
    "Merging the cleaned data to train dataset"
   ]
  },
  {
   "cell_type": "code",
   "execution_count": 5,
   "metadata": {},
   "outputs": [
    {
     "name": "stderr",
     "output_type": "stream",
     "text": [
      "C:\\Users\\madhu\\Anaconda3\\lib\\site-packages\\ipykernel_launcher.py:1: FutureWarning: Sorting because non-concatenation axis is not aligned. A future version\n",
      "of pandas will change to not sort by default.\n",
      "\n",
      "To accept the future behavior, pass 'sort=False'.\n",
      "\n",
      "To retain the current behavior and silence the warning, pass 'sort=True'.\n",
      "\n",
      "  \"\"\"Entry point for launching an IPython kernel.\n"
     ]
    },
    {
     "data": {
      "text/html": [
       "<div>\n",
       "<style scoped>\n",
       "    .dataframe tbody tr th:only-of-type {\n",
       "        vertical-align: middle;\n",
       "    }\n",
       "\n",
       "    .dataframe tbody tr th {\n",
       "        vertical-align: top;\n",
       "    }\n",
       "\n",
       "    .dataframe thead th {\n",
       "        text-align: right;\n",
       "    }\n",
       "</style>\n",
       "<table border=\"1\" class=\"dataframe\">\n",
       "  <thead>\n",
       "    <tr style=\"text-align: right;\">\n",
       "      <th></th>\n",
       "      <th>ad</th>\n",
       "      <th>checkout</th>\n",
       "      <th>funnel_level</th>\n",
       "      <th>grp</th>\n",
       "      <th>id</th>\n",
       "      <th>link</th>\n",
       "      <th>order_placed</th>\n",
       "      <th>timestamp</th>\n",
       "    </tr>\n",
       "  </thead>\n",
       "  <tbody>\n",
       "    <tr>\n",
       "      <th>0</th>\n",
       "      <td>ad412316860435</td>\n",
       "      <td>1</td>\n",
       "      <td>lower</td>\n",
       "      <td>grp936302870529</td>\n",
       "      <td>session446676598812</td>\n",
       "      <td>link1288490188810</td>\n",
       "      <td>1</td>\n",
       "      <td>2018-04-30T14:39:22.000-04:00</td>\n",
       "    </tr>\n",
       "    <tr>\n",
       "      <th>1</th>\n",
       "      <td>ad584115552306</td>\n",
       "      <td>1</td>\n",
       "      <td>lower</td>\n",
       "      <td>grp936302870529</td>\n",
       "      <td>session60129542152</td>\n",
       "      <td>link1288490188810</td>\n",
       "      <td>1</td>\n",
       "      <td>2018-04-30T08:39:23.000-04:00</td>\n",
       "    </tr>\n",
       "    <tr>\n",
       "      <th>2</th>\n",
       "      <td>ad1056561954841</td>\n",
       "      <td>1</td>\n",
       "      <td>lower</td>\n",
       "      <td>grp936302870529</td>\n",
       "      <td>session1511828488251</td>\n",
       "      <td>link1288490188810</td>\n",
       "      <td>1</td>\n",
       "      <td>2018-04-30T17:24:01.000-04:00</td>\n",
       "    </tr>\n",
       "    <tr>\n",
       "      <th>3</th>\n",
       "      <td>ad1666447310876</td>\n",
       "      <td>1</td>\n",
       "      <td>lower</td>\n",
       "      <td>grp936302870529</td>\n",
       "      <td>session1142461300754</td>\n",
       "      <td>link1288490188810</td>\n",
       "      <td>1</td>\n",
       "      <td>2018-04-30T10:42:57.000-04:00</td>\n",
       "    </tr>\n",
       "    <tr>\n",
       "      <th>4</th>\n",
       "      <td>ad1666447310876</td>\n",
       "      <td>1</td>\n",
       "      <td>lower</td>\n",
       "      <td>grp936302870529</td>\n",
       "      <td>session1142461300754</td>\n",
       "      <td>link1288490188810</td>\n",
       "      <td>1</td>\n",
       "      <td>2018-04-30T10:43:19.000-04:00</td>\n",
       "    </tr>\n",
       "  </tbody>\n",
       "</table>\n",
       "</div>"
      ],
      "text/plain": [
       "                ad  checkout funnel_level              grp  \\\n",
       "0   ad412316860435         1        lower  grp936302870529   \n",
       "1   ad584115552306         1        lower  grp936302870529   \n",
       "2  ad1056561954841         1        lower  grp936302870529   \n",
       "3  ad1666447310876         1        lower  grp936302870529   \n",
       "4  ad1666447310876         1        lower  grp936302870529   \n",
       "\n",
       "                     id               link  order_placed  \\\n",
       "0   session446676598812  link1288490188810             1   \n",
       "1    session60129542152  link1288490188810             1   \n",
       "2  session1511828488251  link1288490188810             1   \n",
       "3  session1142461300754  link1288490188810             1   \n",
       "4  session1142461300754  link1288490188810             1   \n",
       "\n",
       "                       timestamp  \n",
       "0  2018-04-30T14:39:22.000-04:00  \n",
       "1  2018-04-30T08:39:23.000-04:00  \n",
       "2  2018-04-30T17:24:01.000-04:00  \n",
       "3  2018-04-30T10:42:57.000-04:00  \n",
       "4  2018-04-30T10:43:19.000-04:00  "
      ]
     },
     "execution_count": 5,
     "metadata": {},
     "output_type": "execute_result"
    }
   ],
   "source": [
    "vertrn=pd.concat([adnotnull,adnull_fin])\n",
    "vertrn.head()"
   ]
  },
  {
   "cell_type": "markdown",
   "metadata": {},
   "source": [
    "creating features date time and hours from timestamp"
   ]
  },
  {
   "cell_type": "code",
   "execution_count": 6,
   "metadata": {},
   "outputs": [
    {
     "data": {
      "text/plain": [
       "0    400\n",
       "1    400\n",
       "2    400\n",
       "3    400\n",
       "4    400\n",
       "Name: hours, dtype: int32"
      ]
     },
     "execution_count": 6,
     "metadata": {},
     "output_type": "execute_result"
    }
   ],
   "source": [
    "vertrn['date']=[b[0:10].replace(\"-\",\"\") for b in vertrn['timestamp']]\n",
    "vertrn['time']=[j[11:19].replace(\":\",\"\") for j in vertrn['timestamp']]\n",
    "vertrn['hours']=[l[20:29].replace(\"-\",\"\").replace(\":\",\"\") for l in vertrn['timestamp']]\n",
    "vertrn['date'].astype(int).head(5)\n",
    "vertrn['time'].astype(int).head(2)\n",
    "vertrn['hours'].astype(int).head(5)"
   ]
  },
  {
   "cell_type": "markdown",
   "metadata": {},
   "source": [
    "Key clicks differentiating between people ordered and not ordered"
   ]
  },
  {
   "cell_type": "code",
   "execution_count": 14,
   "metadata": {},
   "outputs": [
    {
     "name": "stdout",
     "output_type": "stream",
     "text": [
      "grp111669149696     1779\n",
      "grp498216206336     1273\n",
      "grp317827579904     1203\n",
      "grp979252543488     1098\n",
      "grp1468878815232    1085\n",
      "Name: grp, dtype: int64\n",
      "link34359738385      1004\n",
      "link523986010114      891\n",
      "link1056561954816     874\n",
      "link1271310319618     819\n",
      "link1494648619010     810\n",
      "Name: link, dtype: int64\n"
     ]
    }
   ],
   "source": [
    "print(vertrn.loc[(vertrn['order_placed']==1) & (vertrn['funnel_level']=='lower')]['grp'].value_counts().head(5))\n",
    "print(vertrn.loc[(vertrn['order_placed']==1) & (vertrn['funnel_level']=='lower')]['link'].value_counts().head(5))"
   ]
  },
  {
   "cell_type": "code",
   "execution_count": 15,
   "metadata": {},
   "outputs": [
    {
     "name": "stdout",
     "output_type": "stream",
     "text": [
      "grp489626271744     936\n",
      "grp704374636544     446\n",
      "grp936302870529     398\n",
      "grp206158430208     340\n",
      "grp1468878815232    316\n",
      "Name: grp, dtype: int64\n",
      "link335007449089     697\n",
      "link1314259992589    373\n",
      "link1494648619010    261\n",
      "link1056561954816    253\n",
      "link678604832791     210\n",
      "Name: link, dtype: int64\n"
     ]
    }
   ],
   "source": [
    "print(vertrn.loc[(vertrn['order_placed']==0) & (vertrn['funnel_level']=='lower')]['grp'].value_counts().head(5))\n",
    "print(vertrn.loc[(vertrn['order_placed']==0) & (vertrn['funnel_level']=='lower')]['link'].value_counts().head(5))"
   ]
  },
  {
   "cell_type": "markdown",
   "metadata": {},
   "source": [
    "Groups and Links lead to dropout [Checkout =1 and order placed =0 ]"
   ]
  },
  {
   "cell_type": "code",
   "execution_count": 13,
   "metadata": {},
   "outputs": [
    {
     "name": "stdout",
     "output_type": "stream",
     "text": [
      "grp1511828488192    585\n",
      "grp197568495616     226\n",
      "grp489626271744     154\n",
      "grp1511828488193    153\n",
      "grp1056561954816    111\n",
      "Name: grp, dtype: int64\n",
      "link335007449089     97\n",
      "link1348619730944    88\n",
      "link68719476760      69\n",
      "link687194767380     64\n",
      "link1314259992589    61\n",
      "Name: link, dtype: int64\n"
     ]
    }
   ],
   "source": [
    "s=vertrn[(vertrn['checkout']==1)&(vertrn['order_placed']==0)].groupby('id')['time','hours'].max().reset_index()\n",
    "print(pd.merge(vertrn,s,on=['id','time','hours'],how='right')['grp'].value_counts().head(5))\n",
    "print(pd.merge(vertrn,s,on=['id','time','hours'],how='right')['link'].value_counts().head(5))"
   ]
  },
  {
   "cell_type": "markdown",
   "metadata": {},
   "source": [
    "Groups and Links lead to dropout [Checkout =0 and order placed =0 ]"
   ]
  },
  {
   "cell_type": "code",
   "execution_count": 16,
   "metadata": {},
   "outputs": [
    {
     "name": "stdout",
     "output_type": "stream",
     "text": [
      "grp1340029796352    5510\n",
      "grp1056561954816    1336\n",
      "grp936302870528      785\n",
      "grp1589137899520     312\n",
      "grp644245094400      272\n",
      "Name: grp, dtype: int64\n",
      "link214748364811     2553\n",
      "link1468878815250    1000\n",
      "link25769803776       770\n",
      "link257698037775      549\n",
      "link1194000908303     482\n",
      "Name: link, dtype: int64\n"
     ]
    }
   ],
   "source": [
    "u=vertrn[(vertrn['checkout']==0)&(vertrn['order_placed']==0)].groupby('id')['time','hours'].max().reset_index()\n",
    "print(pd.merge(vertrn,u,on=['id','time','hours'],how='right')['grp'].value_counts().head(5))\n",
    "print(pd.merge(vertrn,u,on=['id','time','hours'],how='right')['link'].value_counts().head(5))"
   ]
  },
  {
   "cell_type": "markdown",
   "metadata": {},
   "source": [
    "Links/Groups which are browsed at last in upper funnel(order placed=1)"
   ]
  },
  {
   "cell_type": "code",
   "execution_count": 21,
   "metadata": {},
   "outputs": [
    {
     "name": "stdout",
     "output_type": "stream",
     "text": [
      "grp1340029796352    652\n",
      "grp1056561954816    182\n",
      "grp936302870528      94\n",
      "grp601295421440      45\n",
      "grp1357209665537     44\n",
      "Name: grp, dtype: int64\n",
      "link1468878815250    173\n",
      "link369367187470     169\n",
      "link214748364811     135\n",
      "link1194000908303     63\n",
      "link257698037775      60\n",
      "Name: link, dtype: int64\n"
     ]
    }
   ],
   "source": [
    "t=vertrn[(vertrn['funnel_level']=='upper')&(vertrn['order_placed']==1)].groupby('id')['time','hours'].max().reset_index()\n",
    "print(pd.merge(vertrn,t,on=['id','time','hours'],how='right')['grp'].value_counts().head(5))\n",
    "print(pd.merge(vertrn,t,on=['id','time','hours'],how='right')['link'].value_counts().head(5))"
   ]
  },
  {
   "cell_type": "markdown",
   "metadata": {},
   "source": [
    "Links/Groups which are browsed at last in middle funnel(order placed=1)"
   ]
  },
  {
   "cell_type": "code",
   "execution_count": 22,
   "metadata": {},
   "outputs": [
    {
     "name": "stdout",
     "output_type": "stream",
     "text": [
      "grp1511828488192    920\n",
      "grp197568495616     362\n",
      "grp94489280512      183\n",
      "grp1108101562368    165\n",
      "grp1589137899520    116\n",
      "Name: grp, dtype: int64\n",
      "link25769803776      175\n",
      "link1348619730944    113\n",
      "link687194767380     102\n",
      "link420906795010      77\n",
      "link781684047909      53\n",
      "Name: link, dtype: int64\n"
     ]
    }
   ],
   "source": [
    "w=vertrn[(vertrn['funnel_level']=='middle')&(vertrn['order_placed']==1)].groupby('id')['time','hours'].max().reset_index()\n",
    "print(pd.merge(vertrn,w,on=['id','time','hours'],how='right')['grp'].value_counts().head(5))\n",
    "print(pd.merge(vertrn,w,on=['id','time','hours'],how='right')['link'].value_counts().head(5))"
   ]
  },
  {
   "cell_type": "markdown",
   "metadata": {},
   "source": [
    "Links/Groups which are browsed at first in lower funnel(order placed=1)"
   ]
  },
  {
   "cell_type": "code",
   "execution_count": 24,
   "metadata": {},
   "outputs": [
    {
     "name": "stdout",
     "output_type": "stream",
     "text": [
      "grp704374636544     533\n",
      "grp283467841536     177\n",
      "grp489626271744     103\n",
      "grp970662608896      63\n",
      "grp1279900254210     51\n",
      "Name: grp, dtype: int64\n",
      "link1314259992589    413\n",
      "link343597383684     142\n",
      "link1185410973706    120\n",
      "link335007449089      82\n",
      "link240518168585      63\n",
      "Name: link, dtype: int64\n"
     ]
    }
   ],
   "source": [
    "z=vertrn[(vertrn['funnel_level']=='lower')&(vertrn['order_placed']==1)].groupby('id')['time','hours'].min().reset_index()\n",
    "print(pd.merge(vertrn,z,on=['id','time','hours'],how='right')['grp'].value_counts().head(5))\n",
    "print(pd.merge(vertrn,z,on=['id','time','hours'],how='right')['link'].value_counts().head(5))"
   ]
  },
  {
   "cell_type": "markdown",
   "metadata": {},
   "source": [
    "Links/Groups which are browsed at last in lower funnel(order placed=1)"
   ]
  },
  {
   "cell_type": "code",
   "execution_count": 25,
   "metadata": {},
   "outputs": [
    {
     "name": "stdout",
     "output_type": "stream",
     "text": [
      "grp317827579904     954\n",
      "grp438086664192      47\n",
      "grp1709396983808     43\n",
      "grp1090921693184     31\n",
      "grp738734374912      22\n",
      "Name: grp, dtype: int64\n",
      "link1271310319618    658\n",
      "link618475290626     216\n",
      "link1649267441667     76\n",
      "link609885356034      27\n",
      "link481036337153      20\n",
      "Name: link, dtype: int64\n"
     ]
    }
   ],
   "source": [
    "b=vertrn[(vertrn['funnel_level']=='lower')&(vertrn['order_placed']==1)].groupby('id')['time','hours'].max().reset_index()\n",
    "print(pd.merge(vertrn,b,on=['id','time','hours'],how='right')['grp'].value_counts().head(5))\n",
    "print(pd.merge(vertrn,b,on=['id','time','hours'],how='right')['link'].value_counts().head(5))"
   ]
  },
  {
   "cell_type": "code",
   "execution_count": null,
   "metadata": {},
   "outputs": [],
   "source": []
  }
 ],
 "metadata": {
  "kernelspec": {
   "display_name": "Python 3",
   "language": "python",
   "name": "python3"
  },
  "language_info": {
   "codemirror_mode": {
    "name": "ipython",
    "version": 3
   },
   "file_extension": ".py",
   "mimetype": "text/x-python",
   "name": "python",
   "nbconvert_exporter": "python",
   "pygments_lexer": "ipython3",
   "version": "3.6.4"
  }
 },
 "nbformat": 4,
 "nbformat_minor": 2
}
